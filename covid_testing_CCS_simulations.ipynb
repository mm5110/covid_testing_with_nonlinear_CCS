{
 "cells": [
  {
   "cell_type": "markdown",
   "metadata": {
    "collapsed": true
   },
   "source": [
    "# Improving COVID-19 testing throughput using a variant of COMP"
   ]
  },
  {
   "cell_type": "markdown",
   "metadata": {},
   "source": [
    "## Overview and Introduction"
   ]
  },
  {
   "cell_type": "markdown",
   "metadata": {},
   "source": [
    "The purpose of this repository is to explore the feasability of using a variant of COMP to reduce the number of tests carried out to identify infected individuals in a population. This technique should be most applicable for when the proportion of infected individuals is small relative to the total population.\n",
    "\n",
    "\n",
    "Before proceeding we state and adopt the following assumptions that constrain and motivate this investigation.\n",
    "- **The test itself is the resource intense part of the process**: none of what follows is worthwhile doing if the onerous aspect of testing is the collection of test material from the members of a population, rather than the test itself. Indeed, we are motivated/ working under the context that the bottleneck of the entire testing apparatus is running the actual chemical/ biological test on the test material. This could for instance be motivated by a lack of reagents used in a test, or a lack of skilled manpower or laboratory space to conduct testing.\n",
    "- **Its possible to combine test material**: test material (e.g. blood, swab etc.) of different members can be combined so that a group of members can be tested at the same time. As an illustration, a group blood test would involved running a test on a container containing a mixture of blood from a number of different members rather than a container with just one member's blood.\n",
    "- **It is possible for test material from a single member to be distributed into a number of group tests**: sufficient material can be extracted from each member so that this material can be distributed into a number of group tests.\n",
    "- **Group tests are sufficiently sensitive/ accurate**: the test is sensitive enough / there is significant enough material from each member in each group test such that if there is an infected member the group test will report back positive. We will relax this in later versions to account for false positives and false negatives during testing.\n",
    "- **Saving in terms of the number of tests outweighs the overhead in management of the group testing**: we are also assuming that the overheads involved by conducting group testing is worthwhile for the saving in terms of the numbers of tests ran.\n",
    "\n",
    "Our setup is as follows:\n",
    "- Let $n$ be the population size\n",
    "- Let $k$ be the number of infected individuals\n",
    "- Let $m$ be the number of group tests we conduct\n",
    "- Let $d$ be the number of tests each individuals \n",
    "\n",
    "Now consider the following variables:\n",
    "- $x \\in \\{0,1\\}^n$ is a k sparse (at most k nonzeros) binary vector indicating whether each individual is infected or not.\n",
    "- $A \\in \\{0,1\\}^{m \\times n}$ is a binary matrix which matches group tests with individuals. Each column of A has a fixed number d of nonzeros which indicate which group tests an individuals test material is included in. Each row of A indicates the individuals involved in a group test.\n",
    "- $\\sigma(\\cdot)$ is the unit step function which is applied elementwise to its vector argument.\n",
    "- $y \\in \\{0,1\\}^{m}$ is a binary vector indicating the outcome of each group test.\n",
    "\n",
    "With these in mind then under the assumptions listed above we propose the following model: $$y = \\sigma(Ax).$$ We consider $$x' = \\sigma(A^T y - d)$$ as an estimate for $x$ and aim to show numerically that for an appropriatly chosen random matrix A and parameter regime that \"$x' = x$ most of the time\". From a theoertical perspective it can be shown without to much difficulty that this is true with high probability, and furthermore these algorithms can be extended to the noisy setting to model false positives and false negatives of a single test."
   ]
  },
  {
   "cell_type": "markdown",
   "metadata": {},
   "source": [
    "## Import necessary libraries"
   ]
  },
  {
   "cell_type": "code",
   "execution_count": 1,
   "metadata": {
    "collapsed": true
   },
   "outputs": [],
   "source": [
    "import numpy as np\n",
    "import copy\n",
    "import matplotlib.pyplot as plt\n",
    "from timeit import default_timer as timer\n",
    "from numpy import linalg as LA"
   ]
  },
  {
   "cell_type": "markdown",
   "metadata": {},
   "source": [
    "## Supporting functions"
   ]
  },
  {
   "cell_type": "code",
   "execution_count": 554,
   "metadata": {
    "collapsed": true
   },
   "outputs": [],
   "source": [
    "def generate_latent(n,k):\n",
    "    x = np.zeros(n)\n",
    "    locs = np.random.permutation(n)[:k]\n",
    "    x[locs] = 1\n",
    "    return x\n",
    "\n",
    "# Random Expander graph style sampling programs\n",
    "def generate_group_tests(m,n,d):\n",
    "    A = np.zeros((m,n))\n",
    "    for i in range(n):\n",
    "        locs = np.random.permutation(m)[:d]\n",
    "        A[locs,i] = 1\n",
    "    return A\n",
    "\n",
    "def generate_group_tests2(m,n,d):\n",
    "    A = np.zeros((m,n))\n",
    "    alpha = int(np.floor(m/d))\n",
    "    c = 0\n",
    "    while c<n:\n",
    "        perm = np.random.permutation(m)\n",
    "        zeta = min(n-c, alpha)\n",
    "        for j in range(zeta):\n",
    "            locs = perm[j*d:(j+1)*d]\n",
    "            A[locs,c] = 1\n",
    "            c = c+1\n",
    "    return A\n",
    "\n",
    "# Method for classic group test (each test a disjoint set)\n",
    "def generate_group_tests3(n,r):\n",
    "    m = int(np.ceil(n/r))\n",
    "    A = np.zeros((m,n))\n",
    "    ind_start = 0\n",
    "    ind_end = r\n",
    "    exit=False\n",
    "    i=0\n",
    "    while exit==False:\n",
    "        i+=1\n",
    "        A[i,ind_start:ind_end] = np.ones(ind_end - ind_start)\n",
    "        ind_start +=r\n",
    "        ind_end = min(n, ind_end+r)\n",
    "        if ind_start >= n:\n",
    "            exit=True\n",
    "    return A\n",
    "\n",
    "def generate_group_tests4(m,n):\n",
    "    r = int(np.ceil(n/m))\n",
    "    A = np.zeros((m,n))\n",
    "    ind_start = 0\n",
    "    ind_end = r\n",
    "    exit=False\n",
    "    i=0\n",
    "    while exit==False:\n",
    "        A[i,ind_start:ind_end] = np.ones(ind_end - ind_start)\n",
    "        ind_start +=r\n",
    "        i+=1\n",
    "        ind_end = min(n, ind_end+r)\n",
    "        if ind_start >= n:\n",
    "            exit=True\n",
    "    return A\n",
    "\n",
    "def sigma(z):\n",
    "    w = copy.deepcopy(z)\n",
    "    w[w>0] = 1\n",
    "    w[w <=0] =0\n",
    "    return w\n",
    "\n",
    "def recover_latent(y, A, d, n):\n",
    "    b = (d-1)*np.ones(n)\n",
    "    x = sigma(np.transpose(A)@y - b)\n",
    "    return x\n",
    "\n",
    "def remove_negs(y,A,d,n):\n",
    "    x_neg = np.ones(n)\n",
    "    for i in range(m):\n",
    "        if y[i] == 0:\n",
    "            row = A[i,:]\n",
    "            locs = np.where(row[row==1])[0]\n",
    "            x_neg[locs] = 0\n",
    "    return x_neg\n",
    "\n",
    "def check_estimate(x, x_est, n):\n",
    "    diff = np.abs(3*x - x_est)    \n",
    "    tns = len(diff[diff==0])\n",
    "    fps = len(diff[diff==1])\n",
    "    tps = len(diff[diff==2])\n",
    "    fns = len(diff[diff==3])\n",
    "    return [tps, tns, fps, fns]"
   ]
  },
  {
   "cell_type": "markdown",
   "metadata": {},
   "source": [
    "## Basic simulation to test feasability"
   ]
  },
  {
   "cell_type": "code",
   "execution_count": 457,
   "metadata": {
    "collapsed": true
   },
   "outputs": [],
   "source": [
    "# Setup parameter regime\n",
    "n = 5*10**4\n",
    "k = int(np.ceil(0.02*n)) # 2% of individuals infected\n",
    "d = 10\n",
    "m = int(np.ceil(n/3)) # 1/3 as many group tests as individuals"
   ]
  },
  {
   "cell_type": "code",
   "execution_count": 458,
   "metadata": {
    "collapsed": true
   },
   "outputs": [],
   "source": [
    "# Generate data\n",
    "x = generate_latent(n,k)\n",
    "A = generate_group_tests(m,n,d)\n",
    "y = sigma(A@x)"
   ]
  },
  {
   "cell_type": "code",
   "execution_count": 459,
   "metadata": {},
   "outputs": [],
   "source": [
    "# Try and recover latent (i.e., vector indicating the infected members of a population)\n",
    "x_est = recover_latent(y, A, d, n)"
   ]
  },
  {
   "cell_type": "code",
   "execution_count": 460,
   "metadata": {},
   "outputs": [
    {
     "name": "stdout",
     "output_type": "stream",
     "text": [
      "True positives as percentage of positives:  100.00 %\n",
      "False negatives as percentage of positives:  0.00 %\n",
      "True negatives as percentage of negatives:  99.97 %\n",
      "False positives as percentage of negatives:  0.03 %\n"
     ]
    }
   ],
   "source": [
    "# Analyze recovery\n",
    "[tps, tns, fps, fns] = check_estimate(x, x_est, n)\n",
    "print(\"True positives as percentage of positives: \", str.format('{0:.2f}', 100*tps/k), \"%\")\n",
    "print(\"False negatives as percentage of positives: \", str.format('{0:.2f}', 100*fns/k), \"%\")\n",
    "print(\"True negatives as percentage of negatives: \", str.format('{0:.2f}', 100*tns/(n-k)), \"%\")\n",
    "print(\"False positives as percentage of negatives: \", str.format('{0:.2f}', 100*fps/(n-k)), \"%\")"
   ]
  },
  {
   "cell_type": "markdown",
   "metadata": {},
   "source": [
    "## Simulation using April 29th Pillar 2 data"
   ]
  },
  {
   "cell_type": "code",
   "execution_count": 545,
   "metadata": {
    "collapsed": true
   },
   "outputs": [],
   "source": [
    "# Set parameters\n",
    "N = 100\n",
    "n = 19056\n",
    "k = 1580\n",
    "d = 4\n",
    "m_range = np.array([1000,2000,3000,5000,7000,8000,10000,12000,14000,19000])"
   ]
  },
  {
   "cell_type": "code",
   "execution_count": 546,
   "metadata": {},
   "outputs": [
    {
     "name": "stdout",
     "output_type": "stream",
     "text": [
      "Running trials with m = 1000\n",
      "20 % of tests completed\n",
      "40 % of tests completed\n",
      "60 % of tests completed\n",
      "80 % of tests completed\n",
      "100 % of tests completed\n",
      "Running trials with m = 2000\n",
      "20 % of tests completed\n",
      "40 % of tests completed\n",
      "60 % of tests completed\n",
      "80 % of tests completed\n",
      "100 % of tests completed\n",
      "Running trials with m = 3000\n",
      "20 % of tests completed\n",
      "40 % of tests completed\n",
      "60 % of tests completed\n",
      "80 % of tests completed\n",
      "100 % of tests completed\n",
      "Running trials with m = 5000\n",
      "20 % of tests completed\n",
      "40 % of tests completed\n",
      "60 % of tests completed\n",
      "80 % of tests completed\n",
      "100 % of tests completed\n",
      "Running trials with m = 7000\n",
      "20 % of tests completed\n",
      "40 % of tests completed\n",
      "60 % of tests completed\n",
      "80 % of tests completed\n",
      "100 % of tests completed\n",
      "Running trials with m = 8000\n",
      "20 % of tests completed\n",
      "40 % of tests completed\n",
      "60 % of tests completed\n",
      "80 % of tests completed\n",
      "100 % of tests completed\n",
      "Running trials with m = 10000\n",
      "20 % of tests completed\n",
      "40 % of tests completed\n",
      "60 % of tests completed\n",
      "80 % of tests completed\n",
      "100 % of tests completed\n",
      "Running trials with m = 12000\n",
      "20 % of tests completed\n",
      "40 % of tests completed\n",
      "60 % of tests completed\n",
      "80 % of tests completed\n",
      "100 % of tests completed\n",
      "Running trials with m = 14000\n",
      "20 % of tests completed\n",
      "40 % of tests completed\n",
      "60 % of tests completed\n",
      "80 % of tests completed\n",
      "100 % of tests completed\n",
      "Running trials with m = 19000\n",
      "20 % of tests completed\n",
      "40 % of tests completed\n",
      "60 % of tests completed\n",
      "80 % of tests completed\n",
      "100 % of tests completed\n"
     ]
    }
   ],
   "source": [
    "# Define variables\n",
    "tps_count = np.zeros(len(m_range))\n",
    "tns_count = np.zeros(len(m_range))\n",
    "fps_count = np.zeros(len(m_range))\n",
    "fns_count = np.zeros(len(m_range))\n",
    "\n",
    "# Run experiments\n",
    "for i in range(len(m_range)):\n",
    "    m = m_range[i]\n",
    "    print(\"Running trials with m =\", str.format('{0:.0f}',m))\n",
    "    # Run each parameter setting N times\n",
    "    for j in range(N):\n",
    "        # Generate data for a test\n",
    "        x = generate_latent(n,k)\n",
    "        A = generate_group_tests(m,n,d)\n",
    "        y = sigma(A@x)\n",
    "        # Attempt to recover latent\n",
    "        x_est = recover_latent(y, A, d, n)\n",
    "        # Check recovery\n",
    "        [tps, tns, fps, fns] = check_estimate(x, x_est, n)\n",
    "        tps_count[i] += tps\n",
    "        tns_count[i] += tns\n",
    "        fps_count[i] += fps\n",
    "        fns_count[i] += fns\n",
    "        if np.mod(j+1,20)==0 and j!=0:\n",
    "            print(str.format('{0:.0f}',100*(j+1)/N), \"% of tests completed\")\n",
    "\n",
    "tps_av = tps_count/N\n",
    "tns_av = tns_count/N\n",
    "fps_av = fps_count/N\n",
    "fns_av = fns_count/N"
   ]
  },
  {
   "cell_type": "code",
   "execution_count": 547,
   "metadata": {},
   "outputs": [
    {
     "data": {
      "text/plain": [
       "<matplotlib.legend.Legend at 0x11d8ed6a0>"
      ]
     },
     "execution_count": 547,
     "metadata": {},
     "output_type": "execute_result"
    },
    {
     "data": {
      "text/plain": [
       "<matplotlib.figure.Figure at 0x168f38c18>"
      ]
     },
     "metadata": {},
     "output_type": "display_data"
    },
    {
     "data": {
      "image/png": "[encoded data removed]",
      "text/plain": [
       "<matplotlib.figure.Figure at 0x168f38630>"
      ]
     },
     "metadata": {},
     "output_type": "display_data"
    }
   ],
   "source": [
    "tps_plot = 100*tps_av/k\n",
    "tns_plot = 100*tns_av/(n-k)\n",
    "fps_plot = 100*fps_av/(n-k)\n",
    "fns_plot = 100*fns_av/k\n",
    "\n",
    "plt.figure(3)\n",
    "plt.figure(figsize=(15,10))\n",
    "plt.plot(m_range, tps_plot, 'b-', label=\"True + (% k)\")\n",
    "plt.plot(m_range, fps_plot, 'k--', label=\"False + (% (n-k))\")\n",
    "plt.plot(m_range, tns_plot, 'k-', label=\"True - (% (n-k))\")\n",
    "plt.plot(m_range, fns_plot, 'b--', label=\"False - (% k)\")\n",
    "plt.grid(True)\n",
    "plt.title('Average accuracy of thresholded ccs method over 100 trials with n=19056, k=500 and d=4')\n",
    "plt.xlabel('Number of group tests (m)')\n",
    "plt.ylabel('Percentage')\n",
    "plt.ylim(-1,101)\n",
    "plt.xlim(0,20000)\n",
    "plt.yticks(np.arange(0, 110, 10))\n",
    "plt.xticks(np.arange(0, 20000, 1000))\n",
    "plt.legend()\n",
    "# Savedown plot\n",
    "# plt.savefig('./plots/UK_pillar_2_sim_k_500.pdf', format='pdf', bbox_inches='tight')"
   ]
  },
  {
   "cell_type": "code",
   "execution_count": 548,
   "metadata": {},
   "outputs": [
    {
     "name": "stdout",
     "output_type": "stream",
     "text": [
      "[ 19921.51  18230.4   14947.7   11215.63  10765.89  11133.37  12423.63\n",
      "  14068.75  15882.26  20692.15]\n",
      "Assuming 100% test accuracy then identification of infected individuals possible with just 10766 tests.\n",
      "this implies testing output could be improved increased by a factor of 1.77 .\n"
     ]
    }
   ],
   "source": [
    "# Compute reduction in number of tests required\n",
    "print(m_range)\n",
    "print(m_range + fps_av + tps_av)\n",
    "print(\"Assuming 100% test accuracy then identification of infected individuals possible with just\", str.format('{0:.0f}',np.min(m_range + fps_av + tps_av)), \"tests.\")\n",
    "print(\"this implies testing output could be improved increased by a factor of\", str.format('{0:.2f}',n/np.min(m_range + fps_av + tps_av)),\".\")"
   ]
  },
  {
   "cell_type": "markdown",
   "metadata": {},
   "source": [
    "### Comparison with straight Group + Individual"
   ]
  },
  {
   "cell_type": "code",
   "execution_count": 550,
   "metadata": {},
   "outputs": [
    {
     "name": "stdout",
     "output_type": "stream",
     "text": [
      "4350.0\n",
      "Assuming 100% test accuracy then identification of infected individuals based standard group testing with the same number of group tests is 12350 tests.\n"
     ]
    }
   ],
   "source": [
    "m_g = 8000\n",
    "G=generate_group_tests4(m_g,n)\n",
    "x = generate_latent(n,1580)\n",
    "y = sigma(G@x)\n",
    "locs = np.where(y==1)\n",
    "print(sum(sum(G[locs[0],:])))\n",
    "tot = m_g + sum(sum(G[locs[0],:]))\n",
    "print(\"Assuming 100% test accuracy then identification of infected individuals based standard group testing with the same number of group tests is\", str.format('{0:.0f}',tot), \"tests.\")"
   ]
  },
  {
   "cell_type": "markdown",
   "metadata": {},
   "source": [
    "### Enhancing COMP by removing negatives"
   ]
  },
  {
   "cell_type": "code",
   "execution_count": 557,
   "metadata": {},
   "outputs": [
    {
     "name": "stdout",
     "output_type": "stream",
     "text": [
      "8000\n"
     ]
    },
    {
     "ename": "IndexError",
     "evalue": "index 8000 is out of bounds for axis 0 with size 8000",
     "output_type": "error",
     "traceback": [
      "\u001b[0;31m---------------------------------------------------------------------------\u001b[0m",
      "\u001b[0;31mIndexError\u001b[0m                                Traceback (most recent call last)",
      "\u001b[0;32m<ipython-input-557-ffc7b1168e78>\u001b[0m in \u001b[0;36m<module>\u001b[0;34m()\u001b[0m\n\u001b[1;32m      8\u001b[0m \u001b[0mprint\u001b[0m\u001b[0;34m(\u001b[0m\u001b[0mlen\u001b[0m\u001b[0;34m(\u001b[0m\u001b[0my\u001b[0m\u001b[0;34m)\u001b[0m\u001b[0;34m)\u001b[0m\u001b[0;34m\u001b[0m\u001b[0m\n\u001b[1;32m      9\u001b[0m \u001b[0mx_est\u001b[0m \u001b[0;34m=\u001b[0m \u001b[0mrecover_latent\u001b[0m\u001b[0;34m(\u001b[0m\u001b[0my\u001b[0m\u001b[0;34m,\u001b[0m \u001b[0mA\u001b[0m\u001b[0;34m,\u001b[0m \u001b[0md\u001b[0m\u001b[0;34m,\u001b[0m \u001b[0mn\u001b[0m\u001b[0;34m)\u001b[0m\u001b[0;34m\u001b[0m\u001b[0m\n\u001b[0;32m---> 10\u001b[0;31m \u001b[0mx_neg\u001b[0m \u001b[0;34m=\u001b[0m \u001b[0mremove_negs\u001b[0m\u001b[0;34m(\u001b[0m\u001b[0my\u001b[0m\u001b[0;34m,\u001b[0m\u001b[0mA\u001b[0m\u001b[0;34m,\u001b[0m\u001b[0md\u001b[0m\u001b[0;34m,\u001b[0m\u001b[0mn\u001b[0m\u001b[0;34m)\u001b[0m\u001b[0;34m\u001b[0m\u001b[0m\n\u001b[0m\u001b[1;32m     11\u001b[0m \u001b[0mx_comb\u001b[0m \u001b[0;34m=\u001b[0m \u001b[0mnp\u001b[0m\u001b[0;34m.\u001b[0m\u001b[0mmultiply\u001b[0m\u001b[0;34m(\u001b[0m\u001b[0mx_est\u001b[0m\u001b[0;34m,\u001b[0m\u001b[0mx_neg\u001b[0m\u001b[0;34m)\u001b[0m\u001b[0;34m\u001b[0m\u001b[0m\n\u001b[1;32m     12\u001b[0m \u001b[0;34m\u001b[0m\u001b[0m\n",
      "\u001b[0;32m<ipython-input-554-4c993e845d31>\u001b[0m in \u001b[0;36mremove_negs\u001b[0;34m(y, A, d, n)\u001b[0m\n\u001b[1;32m     73\u001b[0m     \u001b[0mx_neg\u001b[0m \u001b[0;34m=\u001b[0m \u001b[0mnp\u001b[0m\u001b[0;34m.\u001b[0m\u001b[0mones\u001b[0m\u001b[0;34m(\u001b[0m\u001b[0mn\u001b[0m\u001b[0;34m)\u001b[0m\u001b[0;34m\u001b[0m\u001b[0m\n\u001b[1;32m     74\u001b[0m     \u001b[0;32mfor\u001b[0m \u001b[0mi\u001b[0m \u001b[0;32min\u001b[0m \u001b[0mrange\u001b[0m\u001b[0;34m(\u001b[0m\u001b[0mm\u001b[0m\u001b[0;34m)\u001b[0m\u001b[0;34m:\u001b[0m\u001b[0;34m\u001b[0m\u001b[0m\n\u001b[0;32m---> 75\u001b[0;31m         \u001b[0;32mif\u001b[0m \u001b[0my\u001b[0m\u001b[0;34m[\u001b[0m\u001b[0mi\u001b[0m\u001b[0;34m]\u001b[0m \u001b[0;34m==\u001b[0m \u001b[0;36m0\u001b[0m\u001b[0;34m:\u001b[0m\u001b[0;34m\u001b[0m\u001b[0m\n\u001b[0m\u001b[1;32m     76\u001b[0m             \u001b[0mrow\u001b[0m \u001b[0;34m=\u001b[0m \u001b[0mA\u001b[0m\u001b[0;34m[\u001b[0m\u001b[0mi\u001b[0m\u001b[0;34m,\u001b[0m\u001b[0;34m:\u001b[0m\u001b[0;34m]\u001b[0m\u001b[0;34m\u001b[0m\u001b[0m\n\u001b[1;32m     77\u001b[0m             \u001b[0mlocs\u001b[0m \u001b[0;34m=\u001b[0m \u001b[0mnp\u001b[0m\u001b[0;34m.\u001b[0m\u001b[0mwhere\u001b[0m\u001b[0;34m(\u001b[0m\u001b[0mrow\u001b[0m\u001b[0;34m[\u001b[0m\u001b[0mrow\u001b[0m\u001b[0;34m==\u001b[0m\u001b[0;36m1\u001b[0m\u001b[0;34m]\u001b[0m\u001b[0;34m)\u001b[0m\u001b[0;34m[\u001b[0m\u001b[0;36m0\u001b[0m\u001b[0;34m]\u001b[0m\u001b[0;34m\u001b[0m\u001b[0m\n",
      "\u001b[0;31mIndexError\u001b[0m: index 8000 is out of bounds for axis 0 with size 8000"
     ]
    }
   ],
   "source": [
    "# Generate data\n",
    "# Generate data\n",
    "k_test = 1580\n",
    "m_test = 8000\n",
    "x = generate_latent(n,k_test)\n",
    "A = generate_group_tests(m_test,n,d)\n",
    "y = sigma(A@x)\n",
    "print(len(y))\n",
    "x_est = recover_latent(y, A, d, n)\n",
    "x_neg = remove_negs(y,A,d,n)\n",
    "x_comb = np.multiply(x_est,x_neg)\n",
    "\n",
    "[tps, tns, fps, fns] = check_estimate(x, x_est, n)\n",
    "print(\"Result for standard COMP approach\")\n",
    "print(\"True positives as percentage of positives: \", str.format('{0:.2f}', 100*tps/k), \"%\")\n",
    "print(\"False negatives as percentage of positives: \", str.format('{0:.2f}', 100*fns/k), \"%\")\n",
    "print(\"True negatives as percentage of negatives: \", str.format('{0:.2f}', 100*tns/(n-k)), \"%\")\n",
    "print(\"False positives as percentage of negatives: \", str.format('{0:.2f}', 100*fps/(n-k)), \"%\")\n",
    "\n",
    "[tps, tns, fps, fns] = check_estimate(x, x_neg, n)\n",
    "print(\"Result just from removing negatives\")\n",
    "print(\"True positives as percentage of positives: \", str.format('{0:.2f}', 100*tps/k), \"%\")\n",
    "print(\"False negatives as percentage of positives: \", str.format('{0:.2f}', 100*fns/k), \"%\")\n",
    "print(\"True negatives as percentage of negatives: \", str.format('{0:.2f}', 100*tns/(n-k)), \"%\")\n",
    "print(\"False positives as percentage of negatives: \", str.format('{0:.2f}', 100*fps/(n-k)), \"%\")\n",
    "\n",
    "[tps, tns, fps, fns] = check_estimate(x, x_comb, n)\n",
    "print(\"Result from combining:\")\n",
    "print(\"True positives as percentage of positives: \", str.format('{0:.2f}', 100*tps/k), \"%\")\n",
    "print(\"False negatives as percentage of positives: \", str.format('{0:.2f}', 100*fns/k), \"%\")\n",
    "print(\"True negatives as percentage of negatives: \", str.format('{0:.2f}', 100*tns/(n-k)), \"%\")\n",
    "print(\"False positives as percentage of negatives: \", str.format('{0:.2f}', 100*fps/(n-k)), \"%\")"
   ]
  },
  {
   "cell_type": "markdown",
   "metadata": {},
   "source": [
    "## Simulation based on April 29th Pillar 2 data but with lower k"
   ]
  },
  {
   "cell_type": "code",
   "execution_count": 465,
   "metadata": {
    "collapsed": true
   },
   "outputs": [],
   "source": [
    "# Set parameters\n",
    "N = 100\n",
    "n = 19056\n",
    "k = 500\n",
    "d = 8\n",
    "m_range = np.array([1000,2000,3000,5000,7000,8000,10000,12000,14000,19000])"
   ]
  },
  {
   "cell_type": "code",
   "execution_count": 467,
   "metadata": {},
   "outputs": [
    {
     "name": "stdout",
     "output_type": "stream",
     "text": [
      "Running trials with m = 1000\n",
      "20 % of tests completed\n",
      "40 % of tests completed\n",
      "60 % of tests completed\n",
      "80 % of tests completed\n",
      "100 % of tests completed\n",
      "Running trials with m = 2000\n",
      "20 % of tests completed\n",
      "40 % of tests completed\n",
      "60 % of tests completed\n",
      "80 % of tests completed\n",
      "100 % of tests completed\n",
      "Running trials with m = 3000\n",
      "20 % of tests completed\n",
      "40 % of tests completed\n",
      "60 % of tests completed\n",
      "80 % of tests completed\n",
      "100 % of tests completed\n",
      "Running trials with m = 5000\n",
      "20 % of tests completed\n",
      "40 % of tests completed\n",
      "60 % of tests completed\n",
      "80 % of tests completed\n",
      "100 % of tests completed\n",
      "Running trials with m = 7000\n",
      "20 % of tests completed\n",
      "40 % of tests completed\n",
      "60 % of tests completed\n",
      "80 % of tests completed\n",
      "100 % of tests completed\n",
      "Running trials with m = 8000\n",
      "20 % of tests completed\n",
      "40 % of tests completed\n",
      "60 % of tests completed\n",
      "80 % of tests completed\n",
      "100 % of tests completed\n",
      "Running trials with m = 10000\n",
      "20 % of tests completed\n",
      "40 % of tests completed\n",
      "60 % of tests completed\n",
      "80 % of tests completed\n",
      "100 % of tests completed\n",
      "Running trials with m = 12000\n",
      "20 % of tests completed\n",
      "40 % of tests completed\n",
      "60 % of tests completed\n",
      "80 % of tests completed\n",
      "100 % of tests completed\n",
      "Running trials with m = 14000\n",
      "20 % of tests completed\n",
      "40 % of tests completed\n",
      "60 % of tests completed\n",
      "80 % of tests completed\n",
      "100 % of tests completed\n",
      "Running trials with m = 19000\n",
      "20 % of tests completed\n",
      "40 % of tests completed\n",
      "60 % of tests completed\n",
      "80 % of tests completed\n",
      "100 % of tests completed\n"
     ]
    }
   ],
   "source": [
    "# Define variables\n",
    "tps_count = np.zeros(len(m_range))\n",
    "tns_count = np.zeros(len(m_range))\n",
    "fps_count = np.zeros(len(m_range))\n",
    "fns_count = np.zeros(len(m_range))\n",
    "\n",
    "# Run experiments\n",
    "for i in range(len(m_range)):\n",
    "    m = m_range[i]\n",
    "    print(\"Running trials with m =\", str.format('{0:.0f}',m))\n",
    "    # Run each parameter setting N times\n",
    "    for j in range(N):\n",
    "        # Generate data for a test\n",
    "        x = generate_latent(n,k)\n",
    "        A = generate_group_tests(m,n,d)\n",
    "        y = sigma(A@x)\n",
    "        # Attempt to recover latent\n",
    "        x_est = recover_latent(y, A, d, n)\n",
    "        # Check recovery\n",
    "        [tps, tns, fps, fns] = check_estimate(x, x_est, n)\n",
    "        tps_count[i] += tps\n",
    "        tns_count[i] += tns\n",
    "        fps_count[i] += fps\n",
    "        fns_count[i] += fns\n",
    "        if np.mod(j+1,20)==0 and j!=0:\n",
    "            print(str.format('{0:.0f}',100*(j+1)/N), \"% of tests completed\")\n",
    "\n",
    "tps_av = tps_count/N\n",
    "tns_av = tns_count/N\n",
    "fps_av = fps_count/N\n",
    "fns_av = fns_count/N"
   ]
  },
  {
   "cell_type": "code",
   "execution_count": 468,
   "metadata": {},
   "outputs": [
    {
     "data": {
      "text/plain": [
       "<matplotlib.legend.Legend at 0x1082f4668>"
      ]
     },
     "execution_count": 468,
     "metadata": {},
     "output_type": "execute_result"
    },
    {
     "data": {
      "text/plain": [
       "<matplotlib.figure.Figure at 0x11fb9b828>"
      ]
     },
     "metadata": {},
     "output_type": "display_data"
    },
    {
     "data": {
      "image/png": "[encoded data removed]",
      "text/plain": [
       "<matplotlib.figure.Figure at 0x11fb9be80>"
      ]
     },
     "metadata": {},
     "output_type": "display_data"
    }
   ],
   "source": [
    "tps_plot = 100*tps_av/k\n",
    "tns_plot = 100*tns_av/(n-k)\n",
    "fps_plot = 100*fps_av/(n-k)\n",
    "fns_plot = 100*fns_av/k\n",
    "\n",
    "plt.figure(3)\n",
    "plt.figure(figsize=(15,10))\n",
    "plt.plot(m_range, tps_plot, 'b-', label=\"True + (% k)\")\n",
    "plt.plot(m_range, fps_plot, 'k--', label=\"False + (% (n-k))\")\n",
    "plt.plot(m_range, tns_plot, 'k-', label=\"True - (% (n-k))\")\n",
    "plt.plot(m_range, fns_plot, 'b--', label=\"False - (% k)\")\n",
    "plt.grid(True)\n",
    "plt.title('Average accuracy of thresholded ccs method over 100 trials with n=19056, k=500 and d=8')\n",
    "plt.xlabel('Number of group tests (m)')\n",
    "plt.ylabel('Percentage')\n",
    "plt.ylim(-1,101)\n",
    "plt.xlim(0,20000)\n",
    "plt.yticks(np.arange(0, 110, 10))\n",
    "plt.xticks(np.arange(0, 20000, 1000))\n",
    "plt.legend()\n",
    "# Savedown plot\n",
    "# plt.savefig('./plots/UK_pillar_2_sim_k_500.pdf', format='pdf', bbox_inches='tight')"
   ]
  },
  {
   "cell_type": "code",
   "execution_count": 469,
   "metadata": {},
   "outputs": [
    {
     "name": "stdout",
     "output_type": "stream",
     "text": [
      "Assuming 100% test accuracy then identification of infected individuals possible with just 5115 tests.\n",
      "this implies testing output could be improved increased by a factor of 3.73 .\n"
     ]
    }
   ],
   "source": [
    "# Compute reduction in number of tests required\n",
    "# print(m_range + fps_av + tps_av)\n",
    "print(\"Assuming 100% test accuracy then identification of infected individuals possible with just\", str.format('{0:.0f}',np.min(m_range + fps_av + tps_av)), \"tests.\")\n",
    "print(\"this implies testing output could be improved increased by a factor of\", str.format('{0:.2f}',n/np.min(m_range + fps_av + tps_av)),\".\") "
   ]
  }
 ],
 "metadata": {
  "kernelspec": {
   "display_name": "Python [conda env:pytorch-env]",
   "language": "python",
   "name": "conda-env-pytorch-env-py"
  },
  "language_info": {
   "codemirror_mode": {
    "name": "ipython",
    "version": 3
   },
   "file_extension": ".py",
   "mimetype": "text/x-python",
   "name": "python",
   "nbconvert_exporter": "python",
   "pygments_lexer": "ipython3",
   "version": "3.6.2"
  }
 },
 "nbformat": 4,
 "nbformat_minor": 2
}
